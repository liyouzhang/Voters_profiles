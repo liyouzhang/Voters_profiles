{
 "cells": [
  {
   "cell_type": "markdown",
   "metadata": {},
   "source": [
    "## 1. Read Data and Set up"
   ]
  },
  {
   "cell_type": "code",
   "execution_count": 1,
   "metadata": {},
   "outputs": [],
   "source": [
    "import pandas as pd\n",
    "import numpy as np\n",
    "import matplotlib.pyplot as plt\n",
    "%matplotlib inline\n",
    "plt.style.use('ggplot')\n",
    "import seaborn as sns"
   ]
  },
  {
   "cell_type": "code",
   "execution_count": 2,
   "metadata": {},
   "outputs": [],
   "source": [
    "#column names\n",
    "a = \"state_file_id\tcountry_file_id\tprefix\tfirst_name\tmiddle_name\tlast_name\tsurfix\tNA\tbirth_date\tgender\tlanguage_spoken\temail\temail_opt_in\tphone\tfederal_donotcal\tis_absentee_voter\tis_active_voter\tis_early_voter\tis_permanent_absentee_voter\tparty\tregistered_at\tregistered_address__address1\tregistered_address__address2\tregistered_address__address3\tcity\tzipcode\tstate\tcounty\tmailing_fips\tcountry_code\taddress?\tforeign_address?\tforeign_country?\tcity?\tzipcode?\tcountry_code?\tempty1\tempty2\tforeign_country_?\tfederal_district\tstate_upper_district\tstate_lower_district\tjudicial_district\tcounty_district\tfire_district\tvillage_district\tcity_district\tcity_sub_district\tschool_district?\tempty3\tempty4\tempty5\tnbec_precinct_code?\""
   ]
  },
  {
   "cell_type": "code",
   "execution_count": 3,
   "metadata": {},
   "outputs": [
    {
     "data": {
      "text/plain": [
       "'state_file_id\\tcountry_file_id\\tprefix\\tfirst_name\\tmiddle_name\\tlast_name\\tsurfix\\tNA\\tbirth_date\\tgender\\tlanguage_spoken\\temail\\temail_opt_in\\tphone\\tfederal_donotcal\\tis_absentee_voter\\tis_active_voter\\tis_early_voter\\tis_permanent_absentee_voter\\tparty\\tregistered_at\\tregistered_address__address1\\tregistered_address__address2\\tregistered_address__address3\\tcity\\tzipcode\\tstate\\tcounty\\tmailing_fips\\tcountry_code\\taddress?\\tforeign_address?\\tforeign_country?\\tcity?\\tzipcode?\\tcountry_code?\\tempty1\\tempty2\\tforeign_country_?\\tfederal_district\\tstate_upper_district\\tstate_lower_district\\tjudicial_district\\tcounty_district\\tfire_district\\tvillage_district\\tcity_district\\tcity_sub_district\\tschool_district?\\tempty3\\tempty4\\tempty5\\tnbec_precinct_code?'"
      ]
     },
     "execution_count": 3,
     "metadata": {},
     "output_type": "execute_result"
    }
   ],
   "source": [
    "a"
   ]
  },
  {
   "cell_type": "code",
   "execution_count": 4,
   "metadata": {},
   "outputs": [],
   "source": [
    "cols = a.split('\\t')"
   ]
  },
  {
   "cell_type": "code",
   "execution_count": 5,
   "metadata": {},
   "outputs": [
    {
     "data": {
      "text/plain": [
       "['state_file_id',\n",
       " 'country_file_id',\n",
       " 'prefix',\n",
       " 'first_name',\n",
       " 'middle_name',\n",
       " 'last_name',\n",
       " 'surfix',\n",
       " 'NA',\n",
       " 'birth_date',\n",
       " 'gender',\n",
       " 'language_spoken',\n",
       " 'email',\n",
       " 'email_opt_in',\n",
       " 'phone',\n",
       " 'federal_donotcal',\n",
       " 'is_absentee_voter',\n",
       " 'is_active_voter',\n",
       " 'is_early_voter',\n",
       " 'is_permanent_absentee_voter',\n",
       " 'party',\n",
       " 'registered_at',\n",
       " 'registered_address__address1',\n",
       " 'registered_address__address2',\n",
       " 'registered_address__address3',\n",
       " 'city',\n",
       " 'zipcode',\n",
       " 'state',\n",
       " 'county',\n",
       " 'mailing_fips',\n",
       " 'country_code',\n",
       " 'address?',\n",
       " 'foreign_address?',\n",
       " 'foreign_country?',\n",
       " 'city?',\n",
       " 'zipcode?',\n",
       " 'country_code?',\n",
       " 'empty1',\n",
       " 'empty2',\n",
       " 'foreign_country_?',\n",
       " 'federal_district',\n",
       " 'state_upper_district',\n",
       " 'state_lower_district',\n",
       " 'judicial_district',\n",
       " 'county_district',\n",
       " 'fire_district',\n",
       " 'village_district',\n",
       " 'city_district',\n",
       " 'city_sub_district',\n",
       " 'school_district?',\n",
       " 'empty3',\n",
       " 'empty4',\n",
       " 'empty5',\n",
       " 'nbec_precinct_code?']"
      ]
     },
     "execution_count": 5,
     "metadata": {},
     "output_type": "execute_result"
    }
   ],
   "source": [
    "cols"
   ]
  },
  {
   "cell_type": "code",
   "execution_count": 6,
   "metadata": {},
   "outputs": [
    {
     "data": {
      "text/plain": [
       "53"
      ]
     },
     "execution_count": 6,
     "metadata": {},
     "output_type": "execute_result"
    }
   ],
   "source": [
    "len(cols)"
   ]
  },
  {
   "cell_type": "code",
   "execution_count": 7,
   "metadata": {},
   "outputs": [
    {
     "name": "stderr",
     "output_type": "stream",
     "text": [
      "/anaconda3/lib/python3.6/site-packages/IPython/core/interactiveshell.py:2728: DtypeWarning: Columns (13) have mixed types. Specify dtype option on import or set low_memory=False.\n",
      "  interactivity=interactivity, compiler=compiler, result=result)\n"
     ]
    }
   ],
   "source": [
    "VF = pd.read_csv('CA-Lower-19-VF.csv',header=None,names = cols,parse_dates=['birth_date','registered_at'])"
   ]
  },
  {
   "cell_type": "code",
   "execution_count": 8,
   "metadata": {},
   "outputs": [
    {
     "data": {
      "text/plain": [
       "(257409, 53)"
      ]
     },
     "execution_count": 8,
     "metadata": {},
     "output_type": "execute_result"
    }
   ],
   "source": [
    "VF.shape"
   ]
  },
  {
   "cell_type": "code",
   "execution_count": 9,
   "metadata": {},
   "outputs": [
    {
     "data": {
      "text/html": [
       "<div>\n",
       "<style scoped>\n",
       "    .dataframe tbody tr th:only-of-type {\n",
       "        vertical-align: middle;\n",
       "    }\n",
       "\n",
       "    .dataframe tbody tr th {\n",
       "        vertical-align: top;\n",
       "    }\n",
       "\n",
       "    .dataframe thead th {\n",
       "        text-align: right;\n",
       "    }\n",
       "</style>\n",
       "<table border=\"1\" class=\"dataframe\">\n",
       "  <thead>\n",
       "    <tr style=\"text-align: right;\">\n",
       "      <th></th>\n",
       "      <th>state_file_id</th>\n",
       "      <th>country_file_id</th>\n",
       "      <th>prefix</th>\n",
       "      <th>first_name</th>\n",
       "      <th>middle_name</th>\n",
       "      <th>last_name</th>\n",
       "      <th>surfix</th>\n",
       "      <th>NA</th>\n",
       "      <th>birth_date</th>\n",
       "      <th>gender</th>\n",
       "      <th>...</th>\n",
       "      <th>county_district</th>\n",
       "      <th>fire_district</th>\n",
       "      <th>village_district</th>\n",
       "      <th>city_district</th>\n",
       "      <th>city_sub_district</th>\n",
       "      <th>school_district?</th>\n",
       "      <th>empty3</th>\n",
       "      <th>empty4</th>\n",
       "      <th>empty5</th>\n",
       "      <th>nbec_precinct_code?</th>\n",
       "    </tr>\n",
       "  </thead>\n",
       "  <tbody>\n",
       "    <tr>\n",
       "      <th>0</th>\n",
       "      <td>27319195</td>\n",
       "      <td>1273218</td>\n",
       "      <td>NaN</td>\n",
       "      <td>Dida</td>\n",
       "      <td>NaN</td>\n",
       "      <td>A</td>\n",
       "      <td>NaN</td>\n",
       "      <td>NaN</td>\n",
       "      <td>1962-12-31</td>\n",
       "      <td>NaN</td>\n",
       "      <td>...</td>\n",
       "      <td>SAN_FRANCISCO-4</td>\n",
       "      <td>NaN</td>\n",
       "      <td>NaN</td>\n",
       "      <td>NaN</td>\n",
       "      <td>NaN</td>\n",
       "      <td>SAN_FRANCISCO</td>\n",
       "      <td>NaN</td>\n",
       "      <td>NaN</td>\n",
       "      <td>NaN</td>\n",
       "      <td>06075-SAN_FRANCISCO-9432</td>\n",
       "    </tr>\n",
       "    <tr>\n",
       "      <th>1</th>\n",
       "      <td>26555119</td>\n",
       "      <td>119240</td>\n",
       "      <td>Mr</td>\n",
       "      <td>Jonathan</td>\n",
       "      <td>D</td>\n",
       "      <td>Aaberg</td>\n",
       "      <td>NaN</td>\n",
       "      <td>NaN</td>\n",
       "      <td>1961-03-07</td>\n",
       "      <td>M</td>\n",
       "      <td>...</td>\n",
       "      <td>SAN_FRANCISCO-5</td>\n",
       "      <td>NaN</td>\n",
       "      <td>NaN</td>\n",
       "      <td>NaN</td>\n",
       "      <td>NaN</td>\n",
       "      <td>SAN_FRANCISCO</td>\n",
       "      <td>NaN</td>\n",
       "      <td>NaN</td>\n",
       "      <td>NaN</td>\n",
       "      <td>06075-SAN_FRANCISCO-9515</td>\n",
       "    </tr>\n",
       "    <tr>\n",
       "      <th>2</th>\n",
       "      <td>26820490</td>\n",
       "      <td>719609</td>\n",
       "      <td>Ms</td>\n",
       "      <td>Nancy</td>\n",
       "      <td>Joan</td>\n",
       "      <td>Aalberg</td>\n",
       "      <td>NaN</td>\n",
       "      <td>NaN</td>\n",
       "      <td>1942-11-28</td>\n",
       "      <td>F</td>\n",
       "      <td>...</td>\n",
       "      <td>SAN_FRANCISCO-2</td>\n",
       "      <td>NaN</td>\n",
       "      <td>NaN</td>\n",
       "      <td>NaN</td>\n",
       "      <td>NaN</td>\n",
       "      <td>SAN_FRANCISCO</td>\n",
       "      <td>NaN</td>\n",
       "      <td>NaN</td>\n",
       "      <td>NaN</td>\n",
       "      <td>06075-SAN_FRANCISCO-9251</td>\n",
       "    </tr>\n",
       "  </tbody>\n",
       "</table>\n",
       "<p>3 rows × 53 columns</p>\n",
       "</div>"
      ],
      "text/plain": [
       "   state_file_id  country_file_id prefix first_name middle_name last_name  \\\n",
       "0       27319195          1273218    NaN       Dida         NaN         A   \n",
       "1       26555119           119240     Mr   Jonathan           D    Aaberg   \n",
       "2       26820490           719609     Ms      Nancy        Joan   Aalberg   \n",
       "\n",
       "  surfix  NA birth_date gender            ...             county_district  \\\n",
       "0    NaN NaN 1962-12-31    NaN            ...             SAN_FRANCISCO-4   \n",
       "1    NaN NaN 1961-03-07      M            ...             SAN_FRANCISCO-5   \n",
       "2    NaN NaN 1942-11-28      F            ...             SAN_FRANCISCO-2   \n",
       "\n",
       "  fire_district  village_district city_district  city_sub_district  \\\n",
       "0           NaN               NaN           NaN                NaN   \n",
       "1           NaN               NaN           NaN                NaN   \n",
       "2           NaN               NaN           NaN                NaN   \n",
       "\n",
       "   school_district?  empty3  empty4  empty5       nbec_precinct_code?  \n",
       "0     SAN_FRANCISCO     NaN     NaN     NaN  06075-SAN_FRANCISCO-9432  \n",
       "1     SAN_FRANCISCO     NaN     NaN     NaN  06075-SAN_FRANCISCO-9515  \n",
       "2     SAN_FRANCISCO     NaN     NaN     NaN  06075-SAN_FRANCISCO-9251  \n",
       "\n",
       "[3 rows x 53 columns]"
      ]
     },
     "execution_count": 9,
     "metadata": {},
     "output_type": "execute_result"
    }
   ],
   "source": [
    "VF.head(3)"
   ]
  },
  {
   "cell_type": "code",
   "execution_count": 10,
   "metadata": {},
   "outputs": [],
   "source": [
    "def missing_values(df):\n",
    "    total = df.isnull().sum().sort_values(ascending = False)\n",
    "    percent = (df.isnull().sum()/df.isnull().count()*100).sort_values(ascending = False).round(2)\n",
    "    missing = pd.concat([total, percent], axis=1,keys=['Total_missing_values', 'Percent'])\n",
    "    return missing"
   ]
  },
  {
   "cell_type": "code",
   "execution_count": 11,
   "metadata": {},
   "outputs": [
    {
     "data": {
      "text/html": [
       "<div>\n",
       "<style scoped>\n",
       "    .dataframe tbody tr th:only-of-type {\n",
       "        vertical-align: middle;\n",
       "    }\n",
       "\n",
       "    .dataframe tbody tr th {\n",
       "        vertical-align: top;\n",
       "    }\n",
       "\n",
       "    .dataframe thead th {\n",
       "        text-align: right;\n",
       "    }\n",
       "</style>\n",
       "<table border=\"1\" class=\"dataframe\">\n",
       "  <thead>\n",
       "    <tr style=\"text-align: right;\">\n",
       "      <th></th>\n",
       "      <th>Total_missing_values</th>\n",
       "      <th>Percent</th>\n",
       "    </tr>\n",
       "  </thead>\n",
       "  <tbody>\n",
       "    <tr>\n",
       "      <th>registered_address__address3</th>\n",
       "      <td>257409</td>\n",
       "      <td>100.00</td>\n",
       "    </tr>\n",
       "    <tr>\n",
       "      <th>village_district</th>\n",
       "      <td>257409</td>\n",
       "      <td>100.00</td>\n",
       "    </tr>\n",
       "    <tr>\n",
       "      <th>empty5</th>\n",
       "      <td>257409</td>\n",
       "      <td>100.00</td>\n",
       "    </tr>\n",
       "    <tr>\n",
       "      <th>empty1</th>\n",
       "      <td>257409</td>\n",
       "      <td>100.00</td>\n",
       "    </tr>\n",
       "    <tr>\n",
       "      <th>empty2</th>\n",
       "      <td>257409</td>\n",
       "      <td>100.00</td>\n",
       "    </tr>\n",
       "    <tr>\n",
       "      <th>judicial_district</th>\n",
       "      <td>257409</td>\n",
       "      <td>100.00</td>\n",
       "    </tr>\n",
       "    <tr>\n",
       "      <th>NA</th>\n",
       "      <td>257409</td>\n",
       "      <td>100.00</td>\n",
       "    </tr>\n",
       "    <tr>\n",
       "      <th>city_district</th>\n",
       "      <td>257409</td>\n",
       "      <td>100.00</td>\n",
       "    </tr>\n",
       "    <tr>\n",
       "      <th>city_sub_district</th>\n",
       "      <td>257409</td>\n",
       "      <td>100.00</td>\n",
       "    </tr>\n",
       "    <tr>\n",
       "      <th>empty4</th>\n",
       "      <td>257409</td>\n",
       "      <td>100.00</td>\n",
       "    </tr>\n",
       "    <tr>\n",
       "      <th>empty3</th>\n",
       "      <td>257409</td>\n",
       "      <td>100.00</td>\n",
       "    </tr>\n",
       "    <tr>\n",
       "      <th>foreign_country?</th>\n",
       "      <td>256082</td>\n",
       "      <td>99.48</td>\n",
       "    </tr>\n",
       "    <tr>\n",
       "      <th>foreign_country_?</th>\n",
       "      <td>254542</td>\n",
       "      <td>98.89</td>\n",
       "    </tr>\n",
       "    <tr>\n",
       "      <th>foreign_address?</th>\n",
       "      <td>253879</td>\n",
       "      <td>98.63</td>\n",
       "    </tr>\n",
       "    <tr>\n",
       "      <th>fire_district</th>\n",
       "      <td>253821</td>\n",
       "      <td>98.61</td>\n",
       "    </tr>\n",
       "    <tr>\n",
       "      <th>surfix</th>\n",
       "      <td>253774</td>\n",
       "      <td>98.59</td>\n",
       "    </tr>\n",
       "    <tr>\n",
       "      <th>country_code?</th>\n",
       "      <td>249544</td>\n",
       "      <td>96.94</td>\n",
       "    </tr>\n",
       "    <tr>\n",
       "      <th>zipcode?</th>\n",
       "      <td>249335</td>\n",
       "      <td>96.86</td>\n",
       "    </tr>\n",
       "    <tr>\n",
       "      <th>city?</th>\n",
       "      <td>249257</td>\n",
       "      <td>96.83</td>\n",
       "    </tr>\n",
       "    <tr>\n",
       "      <th>address?</th>\n",
       "      <td>246101</td>\n",
       "      <td>95.61</td>\n",
       "    </tr>\n",
       "    <tr>\n",
       "      <th>registered_address__address2</th>\n",
       "      <td>194043</td>\n",
       "      <td>75.38</td>\n",
       "    </tr>\n",
       "    <tr>\n",
       "      <th>email</th>\n",
       "      <td>158457</td>\n",
       "      <td>61.56</td>\n",
       "    </tr>\n",
       "    <tr>\n",
       "      <th>gender</th>\n",
       "      <td>155677</td>\n",
       "      <td>60.48</td>\n",
       "    </tr>\n",
       "    <tr>\n",
       "      <th>prefix</th>\n",
       "      <td>132509</td>\n",
       "      <td>51.48</td>\n",
       "    </tr>\n",
       "    <tr>\n",
       "      <th>phone</th>\n",
       "      <td>105190</td>\n",
       "      <td>40.86</td>\n",
       "    </tr>\n",
       "    <tr>\n",
       "      <th>middle_name</th>\n",
       "      <td>77389</td>\n",
       "      <td>30.06</td>\n",
       "    </tr>\n",
       "    <tr>\n",
       "      <th>school_district?</th>\n",
       "      <td>2910</td>\n",
       "      <td>1.13</td>\n",
       "    </tr>\n",
       "    <tr>\n",
       "      <th>party</th>\n",
       "      <td>365</td>\n",
       "      <td>0.14</td>\n",
       "    </tr>\n",
       "    <tr>\n",
       "      <th>registered_address__address1</th>\n",
       "      <td>70</td>\n",
       "      <td>0.03</td>\n",
       "    </tr>\n",
       "    <tr>\n",
       "      <th>first_name</th>\n",
       "      <td>36</td>\n",
       "      <td>0.01</td>\n",
       "    </tr>\n",
       "    <tr>\n",
       "      <th>language_spoken</th>\n",
       "      <td>13</td>\n",
       "      <td>0.01</td>\n",
       "    </tr>\n",
       "    <tr>\n",
       "      <th>last_name</th>\n",
       "      <td>0</td>\n",
       "      <td>0.00</td>\n",
       "    </tr>\n",
       "    <tr>\n",
       "      <th>federal_donotcal</th>\n",
       "      <td>0</td>\n",
       "      <td>0.00</td>\n",
       "    </tr>\n",
       "    <tr>\n",
       "      <th>birth_date</th>\n",
       "      <td>0</td>\n",
       "      <td>0.00</td>\n",
       "    </tr>\n",
       "    <tr>\n",
       "      <th>country_file_id</th>\n",
       "      <td>0</td>\n",
       "      <td>0.00</td>\n",
       "    </tr>\n",
       "    <tr>\n",
       "      <th>email_opt_in</th>\n",
       "      <td>0</td>\n",
       "      <td>0.00</td>\n",
       "    </tr>\n",
       "    <tr>\n",
       "      <th>nbec_precinct_code?</th>\n",
       "      <td>0</td>\n",
       "      <td>0.00</td>\n",
       "    </tr>\n",
       "    <tr>\n",
       "      <th>state</th>\n",
       "      <td>0</td>\n",
       "      <td>0.00</td>\n",
       "    </tr>\n",
       "    <tr>\n",
       "      <th>is_absentee_voter</th>\n",
       "      <td>0</td>\n",
       "      <td>0.00</td>\n",
       "    </tr>\n",
       "    <tr>\n",
       "      <th>is_active_voter</th>\n",
       "      <td>0</td>\n",
       "      <td>0.00</td>\n",
       "    </tr>\n",
       "    <tr>\n",
       "      <th>is_early_voter</th>\n",
       "      <td>0</td>\n",
       "      <td>0.00</td>\n",
       "    </tr>\n",
       "    <tr>\n",
       "      <th>is_permanent_absentee_voter</th>\n",
       "      <td>0</td>\n",
       "      <td>0.00</td>\n",
       "    </tr>\n",
       "    <tr>\n",
       "      <th>registered_at</th>\n",
       "      <td>0</td>\n",
       "      <td>0.00</td>\n",
       "    </tr>\n",
       "    <tr>\n",
       "      <th>city</th>\n",
       "      <td>0</td>\n",
       "      <td>0.00</td>\n",
       "    </tr>\n",
       "    <tr>\n",
       "      <th>zipcode</th>\n",
       "      <td>0</td>\n",
       "      <td>0.00</td>\n",
       "    </tr>\n",
       "    <tr>\n",
       "      <th>county</th>\n",
       "      <td>0</td>\n",
       "      <td>0.00</td>\n",
       "    </tr>\n",
       "    <tr>\n",
       "      <th>mailing_fips</th>\n",
       "      <td>0</td>\n",
       "      <td>0.00</td>\n",
       "    </tr>\n",
       "    <tr>\n",
       "      <th>country_code</th>\n",
       "      <td>0</td>\n",
       "      <td>0.00</td>\n",
       "    </tr>\n",
       "    <tr>\n",
       "      <th>federal_district</th>\n",
       "      <td>0</td>\n",
       "      <td>0.00</td>\n",
       "    </tr>\n",
       "    <tr>\n",
       "      <th>state_upper_district</th>\n",
       "      <td>0</td>\n",
       "      <td>0.00</td>\n",
       "    </tr>\n",
       "    <tr>\n",
       "      <th>state_lower_district</th>\n",
       "      <td>0</td>\n",
       "      <td>0.00</td>\n",
       "    </tr>\n",
       "    <tr>\n",
       "      <th>county_district</th>\n",
       "      <td>0</td>\n",
       "      <td>0.00</td>\n",
       "    </tr>\n",
       "    <tr>\n",
       "      <th>state_file_id</th>\n",
       "      <td>0</td>\n",
       "      <td>0.00</td>\n",
       "    </tr>\n",
       "  </tbody>\n",
       "</table>\n",
       "</div>"
      ],
      "text/plain": [
       "                              Total_missing_values  Percent\n",
       "registered_address__address3                257409   100.00\n",
       "village_district                            257409   100.00\n",
       "empty5                                      257409   100.00\n",
       "empty1                                      257409   100.00\n",
       "empty2                                      257409   100.00\n",
       "judicial_district                           257409   100.00\n",
       "NA                                          257409   100.00\n",
       "city_district                               257409   100.00\n",
       "city_sub_district                           257409   100.00\n",
       "empty4                                      257409   100.00\n",
       "empty3                                      257409   100.00\n",
       "foreign_country?                            256082    99.48\n",
       "foreign_country_?                           254542    98.89\n",
       "foreign_address?                            253879    98.63\n",
       "fire_district                               253821    98.61\n",
       "surfix                                      253774    98.59\n",
       "country_code?                               249544    96.94\n",
       "zipcode?                                    249335    96.86\n",
       "city?                                       249257    96.83\n",
       "address?                                    246101    95.61\n",
       "registered_address__address2                194043    75.38\n",
       "email                                       158457    61.56\n",
       "gender                                      155677    60.48\n",
       "prefix                                      132509    51.48\n",
       "phone                                       105190    40.86\n",
       "middle_name                                  77389    30.06\n",
       "school_district?                              2910     1.13\n",
       "party                                          365     0.14\n",
       "registered_address__address1                    70     0.03\n",
       "first_name                                      36     0.01\n",
       "language_spoken                                 13     0.01\n",
       "last_name                                        0     0.00\n",
       "federal_donotcal                                 0     0.00\n",
       "birth_date                                       0     0.00\n",
       "country_file_id                                  0     0.00\n",
       "email_opt_in                                     0     0.00\n",
       "nbec_precinct_code?                              0     0.00\n",
       "state                                            0     0.00\n",
       "is_absentee_voter                                0     0.00\n",
       "is_active_voter                                  0     0.00\n",
       "is_early_voter                                   0     0.00\n",
       "is_permanent_absentee_voter                      0     0.00\n",
       "registered_at                                    0     0.00\n",
       "city                                             0     0.00\n",
       "zipcode                                          0     0.00\n",
       "county                                           0     0.00\n",
       "mailing_fips                                     0     0.00\n",
       "country_code                                     0     0.00\n",
       "federal_district                                 0     0.00\n",
       "state_upper_district                             0     0.00\n",
       "state_lower_district                             0     0.00\n",
       "county_district                                  0     0.00\n",
       "state_file_id                                    0     0.00"
      ]
     },
     "execution_count": 11,
     "metadata": {},
     "output_type": "execute_result"
    }
   ],
   "source": [
    "missing_values(VF)"
   ]
  },
  {
   "cell_type": "markdown",
   "metadata": {},
   "source": [
    "### 1.1 feature selection"
   ]
  },
  {
   "cell_type": "code",
   "execution_count": 14,
   "metadata": {},
   "outputs": [],
   "source": [
    "# drop the columns that are empty\n",
    "null_cols = ['city_district','city_sub_district','village_district','judicial_district','empty5','empty4','empty3','empty2','empty1','NA','registered_address__address3']"
   ]
  },
  {
   "cell_type": "code",
   "execution_count": 15,
   "metadata": {
    "collapsed": true
   },
   "outputs": [
    {
     "ename": "ValueError",
     "evalue": "labels ['city_district' 'city_sub_district' 'village_district'\n 'judicial_district' 'empty5' 'empty4' 'empty3' 'empty2' 'empty1' 'NA'\n 'registered_address__address3'] not contained in axis",
     "output_type": "error",
     "traceback": [
      "\u001b[0;31m---------------------------------------------------------------------------\u001b[0m",
      "\u001b[0;31mValueError\u001b[0m                                Traceback (most recent call last)",
      "\u001b[0;32m<ipython-input-15-d51c94a14d25>\u001b[0m in \u001b[0;36m<module>\u001b[0;34m()\u001b[0m\n\u001b[0;32m----> 1\u001b[0;31m \u001b[0mVF\u001b[0m \u001b[0;34m=\u001b[0m \u001b[0mVF\u001b[0m\u001b[0;34m.\u001b[0m\u001b[0mdrop\u001b[0m\u001b[0;34m(\u001b[0m\u001b[0mnull_cols\u001b[0m\u001b[0;34m,\u001b[0m\u001b[0maxis\u001b[0m\u001b[0;34m=\u001b[0m\u001b[0;36m1\u001b[0m\u001b[0;34m)\u001b[0m\u001b[0;34m\u001b[0m\u001b[0m\n\u001b[0m",
      "\u001b[0;32m/anaconda3/lib/python3.6/site-packages/pandas/core/generic.py\u001b[0m in \u001b[0;36mdrop\u001b[0;34m(self, labels, axis, index, columns, level, inplace, errors)\u001b[0m\n\u001b[1;32m   2528\u001b[0m         \u001b[0;32mfor\u001b[0m \u001b[0maxis\u001b[0m\u001b[0;34m,\u001b[0m \u001b[0mlabels\u001b[0m \u001b[0;32min\u001b[0m \u001b[0maxes\u001b[0m\u001b[0;34m.\u001b[0m\u001b[0mitems\u001b[0m\u001b[0;34m(\u001b[0m\u001b[0;34m)\u001b[0m\u001b[0;34m:\u001b[0m\u001b[0;34m\u001b[0m\u001b[0m\n\u001b[1;32m   2529\u001b[0m             \u001b[0;32mif\u001b[0m \u001b[0mlabels\u001b[0m \u001b[0;32mis\u001b[0m \u001b[0;32mnot\u001b[0m \u001b[0;32mNone\u001b[0m\u001b[0;34m:\u001b[0m\u001b[0;34m\u001b[0m\u001b[0m\n\u001b[0;32m-> 2530\u001b[0;31m                 \u001b[0mobj\u001b[0m \u001b[0;34m=\u001b[0m \u001b[0mobj\u001b[0m\u001b[0;34m.\u001b[0m\u001b[0m_drop_axis\u001b[0m\u001b[0;34m(\u001b[0m\u001b[0mlabels\u001b[0m\u001b[0;34m,\u001b[0m \u001b[0maxis\u001b[0m\u001b[0;34m,\u001b[0m \u001b[0mlevel\u001b[0m\u001b[0;34m=\u001b[0m\u001b[0mlevel\u001b[0m\u001b[0;34m,\u001b[0m \u001b[0merrors\u001b[0m\u001b[0;34m=\u001b[0m\u001b[0merrors\u001b[0m\u001b[0;34m)\u001b[0m\u001b[0;34m\u001b[0m\u001b[0m\n\u001b[0m\u001b[1;32m   2531\u001b[0m \u001b[0;34m\u001b[0m\u001b[0m\n\u001b[1;32m   2532\u001b[0m         \u001b[0;32mif\u001b[0m \u001b[0minplace\u001b[0m\u001b[0;34m:\u001b[0m\u001b[0;34m\u001b[0m\u001b[0m\n",
      "\u001b[0;32m/anaconda3/lib/python3.6/site-packages/pandas/core/generic.py\u001b[0m in \u001b[0;36m_drop_axis\u001b[0;34m(self, labels, axis, level, errors)\u001b[0m\n\u001b[1;32m   2560\u001b[0m                 \u001b[0mnew_axis\u001b[0m \u001b[0;34m=\u001b[0m \u001b[0maxis\u001b[0m\u001b[0;34m.\u001b[0m\u001b[0mdrop\u001b[0m\u001b[0;34m(\u001b[0m\u001b[0mlabels\u001b[0m\u001b[0;34m,\u001b[0m \u001b[0mlevel\u001b[0m\u001b[0;34m=\u001b[0m\u001b[0mlevel\u001b[0m\u001b[0;34m,\u001b[0m \u001b[0merrors\u001b[0m\u001b[0;34m=\u001b[0m\u001b[0merrors\u001b[0m\u001b[0;34m)\u001b[0m\u001b[0;34m\u001b[0m\u001b[0m\n\u001b[1;32m   2561\u001b[0m             \u001b[0;32melse\u001b[0m\u001b[0;34m:\u001b[0m\u001b[0;34m\u001b[0m\u001b[0m\n\u001b[0;32m-> 2562\u001b[0;31m                 \u001b[0mnew_axis\u001b[0m \u001b[0;34m=\u001b[0m \u001b[0maxis\u001b[0m\u001b[0;34m.\u001b[0m\u001b[0mdrop\u001b[0m\u001b[0;34m(\u001b[0m\u001b[0mlabels\u001b[0m\u001b[0;34m,\u001b[0m \u001b[0merrors\u001b[0m\u001b[0;34m=\u001b[0m\u001b[0merrors\u001b[0m\u001b[0;34m)\u001b[0m\u001b[0;34m\u001b[0m\u001b[0m\n\u001b[0m\u001b[1;32m   2563\u001b[0m             \u001b[0mdropped\u001b[0m \u001b[0;34m=\u001b[0m \u001b[0mself\u001b[0m\u001b[0;34m.\u001b[0m\u001b[0mreindex\u001b[0m\u001b[0;34m(\u001b[0m\u001b[0;34m**\u001b[0m\u001b[0;34m{\u001b[0m\u001b[0maxis_name\u001b[0m\u001b[0;34m:\u001b[0m \u001b[0mnew_axis\u001b[0m\u001b[0;34m}\u001b[0m\u001b[0;34m)\u001b[0m\u001b[0;34m\u001b[0m\u001b[0m\n\u001b[1;32m   2564\u001b[0m             \u001b[0;32mtry\u001b[0m\u001b[0;34m:\u001b[0m\u001b[0;34m\u001b[0m\u001b[0m\n",
      "\u001b[0;32m/anaconda3/lib/python3.6/site-packages/pandas/core/indexes/base.py\u001b[0m in \u001b[0;36mdrop\u001b[0;34m(self, labels, errors)\u001b[0m\n\u001b[1;32m   3742\u001b[0m             \u001b[0;32mif\u001b[0m \u001b[0merrors\u001b[0m \u001b[0;34m!=\u001b[0m \u001b[0;34m'ignore'\u001b[0m\u001b[0;34m:\u001b[0m\u001b[0;34m\u001b[0m\u001b[0m\n\u001b[1;32m   3743\u001b[0m                 raise ValueError('labels %s not contained in axis' %\n\u001b[0;32m-> 3744\u001b[0;31m                                  labels[mask])\n\u001b[0m\u001b[1;32m   3745\u001b[0m             \u001b[0mindexer\u001b[0m \u001b[0;34m=\u001b[0m \u001b[0mindexer\u001b[0m\u001b[0;34m[\u001b[0m\u001b[0;34m~\u001b[0m\u001b[0mmask\u001b[0m\u001b[0;34m]\u001b[0m\u001b[0;34m\u001b[0m\u001b[0m\n\u001b[1;32m   3746\u001b[0m         \u001b[0;32mreturn\u001b[0m \u001b[0mself\u001b[0m\u001b[0;34m.\u001b[0m\u001b[0mdelete\u001b[0m\u001b[0;34m(\u001b[0m\u001b[0mindexer\u001b[0m\u001b[0;34m)\u001b[0m\u001b[0;34m\u001b[0m\u001b[0m\n",
      "\u001b[0;31mValueError\u001b[0m: labels ['city_district' 'city_sub_district' 'village_district'\n 'judicial_district' 'empty5' 'empty4' 'empty3' 'empty2' 'empty1' 'NA'\n 'registered_address__address3'] not contained in axis"
     ]
    }
   ],
   "source": [
    "VF = VF.drop(null_cols,axis=1)"
   ]
  },
  {
   "cell_type": "code",
   "execution_count": 16,
   "metadata": {},
   "outputs": [],
   "source": [
    "keep_cols=['state_file_id', 'country_file_id', 'prefix', 'first_name',\n",
    "       'middle_name', 'last_name', 'surfix', 'birth_date', 'gender',\n",
    "       'language_spoken', 'email', 'email_opt_in', 'phone', 'federal_donotcal',\n",
    "       'is_absentee_voter', 'is_active_voter', 'is_early_voter',\n",
    "       'is_permanent_absentee_voter', 'party', 'registered_at',\n",
    "       'registered_address__address1', 'registered_address__address2', 'city',\n",
    "       'zipcode', 'state', 'county', 'mailing_fips', 'country_code','federal_district',\n",
    "       'state_upper_district', 'state_lower_district', 'county_district',\n",
    "       'fire_district', 'school_district?', 'nbec_precinct_code?']"
   ]
  },
  {
   "cell_type": "code",
   "execution_count": 17,
   "metadata": {},
   "outputs": [],
   "source": [
    "k_cols = ['prefix', 'birth_date', 'gender',\n",
    "       'language_spoken', 'email', 'email_opt_in', 'phone', 'federal_donotcal',\n",
    "       'is_absentee_voter', 'is_active_voter', 'is_early_voter',\n",
    "       'is_permanent_absentee_voter', 'party', 'registered_at',\n",
    "       'registered_address__address1', 'registered_address__address2', 'city',\n",
    "       'zipcode', 'state', 'county', 'mailing_fips', 'country_code','federal_district',\n",
    "       'state_upper_district', 'state_lower_district', 'county_district',\n",
    "       'fire_district', 'school_district?', 'nbec_precinct_code?']"
   ]
  },
  {
   "cell_type": "code",
   "execution_count": 19,
   "metadata": {},
   "outputs": [],
   "source": [
    "#select columns that might contain signals\n",
    "VFs = VF[k_cols]"
   ]
  },
  {
   "cell_type": "code",
   "execution_count": 20,
   "metadata": {},
   "outputs": [
    {
     "data": {
      "text/html": [
       "<div>\n",
       "<style scoped>\n",
       "    .dataframe tbody tr th:only-of-type {\n",
       "        vertical-align: middle;\n",
       "    }\n",
       "\n",
       "    .dataframe tbody tr th {\n",
       "        vertical-align: top;\n",
       "    }\n",
       "\n",
       "    .dataframe thead th {\n",
       "        text-align: right;\n",
       "    }\n",
       "</style>\n",
       "<table border=\"1\" class=\"dataframe\">\n",
       "  <thead>\n",
       "    <tr style=\"text-align: right;\">\n",
       "      <th></th>\n",
       "      <th>prefix</th>\n",
       "      <th>birth_date</th>\n",
       "      <th>gender</th>\n",
       "      <th>language_spoken</th>\n",
       "      <th>email</th>\n",
       "      <th>email_opt_in</th>\n",
       "      <th>phone</th>\n",
       "      <th>federal_donotcal</th>\n",
       "      <th>is_absentee_voter</th>\n",
       "      <th>is_active_voter</th>\n",
       "      <th>...</th>\n",
       "      <th>county</th>\n",
       "      <th>mailing_fips</th>\n",
       "      <th>country_code</th>\n",
       "      <th>federal_district</th>\n",
       "      <th>state_upper_district</th>\n",
       "      <th>state_lower_district</th>\n",
       "      <th>county_district</th>\n",
       "      <th>fire_district</th>\n",
       "      <th>school_district?</th>\n",
       "      <th>nbec_precinct_code?</th>\n",
       "    </tr>\n",
       "  </thead>\n",
       "  <tbody>\n",
       "    <tr>\n",
       "      <th>0</th>\n",
       "      <td>NaN</td>\n",
       "      <td>1962-12-31</td>\n",
       "      <td>NaN</td>\n",
       "      <td>VI</td>\n",
       "      <td>NaN</td>\n",
       "      <td>False</td>\n",
       "      <td>4153737961</td>\n",
       "      <td>False</td>\n",
       "      <td>False</td>\n",
       "      <td>True</td>\n",
       "      <td>...</td>\n",
       "      <td>San Francisco</td>\n",
       "      <td>6075</td>\n",
       "      <td>US</td>\n",
       "      <td>12</td>\n",
       "      <td>11</td>\n",
       "      <td>19</td>\n",
       "      <td>SAN_FRANCISCO-4</td>\n",
       "      <td>NaN</td>\n",
       "      <td>SAN_FRANCISCO</td>\n",
       "      <td>06075-SAN_FRANCISCO-9432</td>\n",
       "    </tr>\n",
       "    <tr>\n",
       "      <th>1</th>\n",
       "      <td>Mr</td>\n",
       "      <td>1961-03-07</td>\n",
       "      <td>M</td>\n",
       "      <td>EN</td>\n",
       "      <td>NaN</td>\n",
       "      <td>False</td>\n",
       "      <td>4156619830</td>\n",
       "      <td>False</td>\n",
       "      <td>False</td>\n",
       "      <td>True</td>\n",
       "      <td>...</td>\n",
       "      <td>San Francisco</td>\n",
       "      <td>6075</td>\n",
       "      <td>US</td>\n",
       "      <td>12</td>\n",
       "      <td>11</td>\n",
       "      <td>19</td>\n",
       "      <td>SAN_FRANCISCO-5</td>\n",
       "      <td>NaN</td>\n",
       "      <td>SAN_FRANCISCO</td>\n",
       "      <td>06075-SAN_FRANCISCO-9515</td>\n",
       "    </tr>\n",
       "    <tr>\n",
       "      <th>2</th>\n",
       "      <td>Ms</td>\n",
       "      <td>1942-11-28</td>\n",
       "      <td>F</td>\n",
       "      <td>EN</td>\n",
       "      <td>aalryan@webtv.net</td>\n",
       "      <td>False</td>\n",
       "      <td>NaN</td>\n",
       "      <td>False</td>\n",
       "      <td>False</td>\n",
       "      <td>True</td>\n",
       "      <td>...</td>\n",
       "      <td>San Francisco</td>\n",
       "      <td>6075</td>\n",
       "      <td>US</td>\n",
       "      <td>12</td>\n",
       "      <td>11</td>\n",
       "      <td>19</td>\n",
       "      <td>SAN_FRANCISCO-2</td>\n",
       "      <td>NaN</td>\n",
       "      <td>SAN_FRANCISCO</td>\n",
       "      <td>06075-SAN_FRANCISCO-9251</td>\n",
       "    </tr>\n",
       "    <tr>\n",
       "      <th>3</th>\n",
       "      <td>NaN</td>\n",
       "      <td>1963-01-17</td>\n",
       "      <td>NaN</td>\n",
       "      <td>EN</td>\n",
       "      <td>ianaames@gmail.com</td>\n",
       "      <td>False</td>\n",
       "      <td>NaN</td>\n",
       "      <td>False</td>\n",
       "      <td>False</td>\n",
       "      <td>True</td>\n",
       "      <td>...</td>\n",
       "      <td>San Francisco</td>\n",
       "      <td>6075</td>\n",
       "      <td>US</td>\n",
       "      <td>12</td>\n",
       "      <td>11</td>\n",
       "      <td>19</td>\n",
       "      <td>SAN_FRANCISCO-1</td>\n",
       "      <td>NaN</td>\n",
       "      <td>SAN_FRANCISCO</td>\n",
       "      <td>06075-SAN_FRANCISCO-9112</td>\n",
       "    </tr>\n",
       "  </tbody>\n",
       "</table>\n",
       "<p>4 rows × 29 columns</p>\n",
       "</div>"
      ],
      "text/plain": [
       "  prefix birth_date gender language_spoken               email  email_opt_in  \\\n",
       "0    NaN 1962-12-31    NaN              VI                 NaN         False   \n",
       "1     Mr 1961-03-07      M              EN                 NaN         False   \n",
       "2     Ms 1942-11-28      F              EN   aalryan@webtv.net         False   \n",
       "3    NaN 1963-01-17    NaN              EN  ianaames@gmail.com         False   \n",
       "\n",
       "        phone  federal_donotcal  is_absentee_voter  is_active_voter  \\\n",
       "0  4153737961             False              False             True   \n",
       "1  4156619830             False              False             True   \n",
       "2         NaN             False              False             True   \n",
       "3         NaN             False              False             True   \n",
       "\n",
       "             ...                    county  mailing_fips country_code  \\\n",
       "0            ...             San Francisco          6075           US   \n",
       "1            ...             San Francisco          6075           US   \n",
       "2            ...             San Francisco          6075           US   \n",
       "3            ...             San Francisco          6075           US   \n",
       "\n",
       "  federal_district state_upper_district state_lower_district  county_district  \\\n",
       "0               12                   11                   19  SAN_FRANCISCO-4   \n",
       "1               12                   11                   19  SAN_FRANCISCO-5   \n",
       "2               12                   11                   19  SAN_FRANCISCO-2   \n",
       "3               12                   11                   19  SAN_FRANCISCO-1   \n",
       "\n",
       "   fire_district school_district?       nbec_precinct_code?  \n",
       "0            NaN    SAN_FRANCISCO  06075-SAN_FRANCISCO-9432  \n",
       "1            NaN    SAN_FRANCISCO  06075-SAN_FRANCISCO-9515  \n",
       "2            NaN    SAN_FRANCISCO  06075-SAN_FRANCISCO-9251  \n",
       "3            NaN    SAN_FRANCISCO  06075-SAN_FRANCISCO-9112  \n",
       "\n",
       "[4 rows x 29 columns]"
      ]
     },
     "execution_count": 20,
     "metadata": {},
     "output_type": "execute_result"
    }
   ],
   "source": [
    "VFs.head(4)"
   ]
  },
  {
   "cell_type": "code",
   "execution_count": 25,
   "metadata": {},
   "outputs": [
    {
     "name": "stdout",
     "output_type": "stream",
     "text": [
      "<class 'pandas.core.frame.DataFrame'>\n",
      "RangeIndex: 257409 entries, 0 to 257408\n",
      "Data columns (total 29 columns):\n",
      "prefix                          124900 non-null object\n",
      "birth_date                      257409 non-null datetime64[ns]\n",
      "gender                          157356 non-null object\n",
      "language_spoken                 257396 non-null object\n",
      "email                           98952 non-null object\n",
      "email_opt_in                    257409 non-null bool\n",
      "phone                           152219 non-null object\n",
      "federal_donotcal                257409 non-null bool\n",
      "is_absentee_voter               257409 non-null bool\n",
      "is_active_voter                 257409 non-null bool\n",
      "is_early_voter                  257409 non-null bool\n",
      "is_permanent_absentee_voter     257409 non-null bool\n",
      "party                           257044 non-null object\n",
      "registered_at                   257409 non-null datetime64[ns]\n",
      "registered_address__address1    257339 non-null object\n",
      "registered_address__address2    63366 non-null object\n",
      "city                            257409 non-null object\n",
      "zipcode                         257409 non-null int64\n",
      "state                           257409 non-null object\n",
      "county                          257409 non-null object\n",
      "mailing_fips                    257409 non-null int64\n",
      "country_code                    257409 non-null object\n",
      "federal_district                257409 non-null int64\n",
      "state_upper_district            257409 non-null int64\n",
      "state_lower_district            257409 non-null int64\n",
      "county_district                 257409 non-null object\n",
      "fire_district                   3588 non-null object\n",
      "school_district?                254499 non-null object\n",
      "nbec_precinct_code?             257409 non-null object\n",
      "dtypes: bool(6), datetime64[ns](2), int64(5), object(16)\n",
      "memory usage: 46.6+ MB\n"
     ]
    }
   ],
   "source": [
    "#check data type of each colomns\n",
    "VFs.info()"
   ]
  },
  {
   "cell_type": "code",
   "execution_count": 21,
   "metadata": {},
   "outputs": [
    {
     "data": {
      "text/plain": [
       "Mr      26492\n",
       "Ms      13971\n",
       "Mrs      8405\n",
       "Miss     6756\n",
       "1           1\n",
       "Name: prefix, dtype: int64"
      ]
     },
     "execution_count": 21,
     "metadata": {},
     "output_type": "execute_result"
    }
   ],
   "source": [
    "#impute missing gender values based on prefix data\n",
    "VFs[VFs.gender.isnull()]['prefix'].value_counts()"
   ]
  },
  {
   "cell_type": "code",
   "execution_count": 22,
   "metadata": {},
   "outputs": [
    {
     "name": "stderr",
     "output_type": "stream",
     "text": [
      "/anaconda3/lib/python3.6/site-packages/pandas/core/indexing.py:537: SettingWithCopyWarning: \n",
      "A value is trying to be set on a copy of a slice from a DataFrame.\n",
      "Try using .loc[row_indexer,col_indexer] = value instead\n",
      "\n",
      "See the caveats in the documentation: http://pandas.pydata.org/pandas-docs/stable/indexing.html#indexing-view-versus-copy\n",
      "  self.obj[item] = s\n"
     ]
    }
   ],
   "source": [
    "VFs.iloc[VFs[(VFs['gender'].isnull()) & (VFs['prefix'] == 'Mr')]['gender'].index,2] = 'M'\n",
    "VFs.iloc[VFs[(VFs['gender'].isnull()) & (VFs['prefix'] == 'Mrs')]['gender'].index,2] = 'F'\n",
    "VFs.iloc[VFs[(VFs['gender'].isnull()) & (VFs['prefix'] == 'Miss')]['gender'].index,2] = 'F'\n",
    "VFs.iloc[VFs[(VFs['gender'].isnull()) & (VFs['prefix'] == 'Ms')]['gender'].index,2] = 'F'"
   ]
  },
  {
   "cell_type": "code",
   "execution_count": 23,
   "metadata": {},
   "outputs": [
    {
     "data": {
      "text/plain": [
       "1    1\n",
       "Name: prefix, dtype: int64"
      ]
     },
     "execution_count": 23,
     "metadata": {},
     "output_type": "execute_result"
    }
   ],
   "source": [
    "VFs[VFs.gender.isnull()]['prefix'].value_counts()"
   ]
  },
  {
   "cell_type": "code",
   "execution_count": 24,
   "metadata": {},
   "outputs": [
    {
     "data": {
      "text/plain": [
       "0.3886927030523408"
      ]
     },
     "execution_count": 24,
     "metadata": {},
     "output_type": "execute_result"
    }
   ],
   "source": [
    "#reduced the missing value of gender to 100k (~39%)\n",
    "VFs.gender.isnull().sum()/VFs.shape[0]"
   ]
  },
  {
   "cell_type": "code",
   "execution_count": 26,
   "metadata": {},
   "outputs": [],
   "source": [
    "#drop prefix column as it provides same info as gender\n",
    "VFs = VFs.drop('prefix',axis=1)"
   ]
  },
  {
   "cell_type": "code",
   "execution_count": 27,
   "metadata": {},
   "outputs": [],
   "source": [
    "useful_cols=['language_spoken','party','gender','birth_date','registered_at','city']"
   ]
  },
  {
   "cell_type": "code",
   "execution_count": 28,
   "metadata": {},
   "outputs": [],
   "source": [
    "def find_percent(df,cols):\n",
    "    mp = []\n",
    "    for col in cols:\n",
    "        percent = (df[col].isnull().sum()/df[col].isnull().count()*100).round(2)\n",
    "        mp.append(percent)\n",
    "    return mp"
   ]
  },
  {
   "cell_type": "code",
   "execution_count": 29,
   "metadata": {},
   "outputs": [],
   "source": [
    "mp = find_percent(VFs,useful_cols)"
   ]
  },
  {
   "cell_type": "code",
   "execution_count": 30,
   "metadata": {},
   "outputs": [
    {
     "data": {
      "image/png": "[encoded data removed]",
      "text/plain": [
       "<matplotlib.figure.Figure at 0x1a18633cf8>"
      ]
     },
     "metadata": {},
     "output_type": "display_data"
    }
   ],
   "source": [
    "fig,axes = plt.subplots(ncols=2,nrows=3,figsize=(10,10));\n",
    "axs = axes.ravel()\n",
    "for c,a,percent in zip(useful_cols,axs,mp):\n",
    "    VFs[c].hist(ax=a);\n",
    "    a.set_title(\"{} distribution ({}% missing values)\".format(c,percent),fontsize=10)"
   ]
  },
  {
   "cell_type": "code",
   "execution_count": 32,
   "metadata": {},
   "outputs": [],
   "source": [
    "single_value_cols =[\"federal_donotcal\",\"is_absentee_voter\",\"is_active_voter\",\"is_early_voter\",\n",
    "\"is_permanent_absentee_voter\",\"email_opt_in\",'state','country_code']"
   ]
  },
  {
   "cell_type": "code",
   "execution_count": 36,
   "metadata": {},
   "outputs": [
    {
     "data": {
      "image/png": "[encoded data removed]",
      "text/plain": [
       "<matplotlib.figure.Figure at 0x1a1297e208>"
      ]
     },
     "metadata": {},
     "output_type": "display_data"
    }
   ],
   "source": [
    "fig,axes = plt.subplots(ncols=2,nrows=4,figsize=(10,14));\n",
    "axs = axes.ravel()\n",
    "for c,a,p in zip(single_value_cols,axs,find_percent(VFs,single_value_cols)):\n",
    "    VFs[c].hist(ax=a);\n",
    "    a.set_title(\"{} distribution ({}% missing values)\".format(c,p),fontsize=10)"
   ]
  },
  {
   "cell_type": "code",
   "execution_count": 41,
   "metadata": {},
   "outputs": [],
   "source": [
    "a_cols=['zipcode','county','mailing_fips','federal_district','state_upper_district','state_lower_district','fire_district','school_district?','nbec_precinct_code?','county_district']"
   ]
  },
  {
   "cell_type": "code",
   "execution_count": 43,
   "metadata": {},
   "outputs": [
    {
     "data": {
      "image/png": "[encoded data removed]",
      "text/plain": [
       "<matplotlib.figure.Figure at 0x1a12b63f60>"
      ]
     },
     "metadata": {},
     "output_type": "display_data"
    }
   ],
   "source": [
    "fig,axes = plt.subplots(ncols=2,nrows=5,figsize=(10,18));\n",
    "axs = axes.ravel()\n",
    "for c,a,p in zip(a_cols,axs,find_percent(VFs,a_cols)):\n",
    "    VFs[c].hist(ax=a);\n",
    "    a.set_title(\"{} distribution ({}% missing values)\".format(c,p),fontsize=10)"
   ]
  },
  {
   "cell_type": "code",
   "execution_count": 47,
   "metadata": {},
   "outputs": [
    {
     "ename": "KeyError",
     "evalue": "'nbec_precint_code?'",
     "output_type": "error",
     "traceback": [
      "\u001b[0;31m---------------------------------------------------------------------------\u001b[0m",
      "\u001b[0;31mKeyError\u001b[0m                                  Traceback (most recent call last)",
      "\u001b[0;32m/anaconda3/lib/python3.6/site-packages/pandas/core/indexes/base.py\u001b[0m in \u001b[0;36mget_loc\u001b[0;34m(self, key, method, tolerance)\u001b[0m\n\u001b[1;32m   2524\u001b[0m             \u001b[0;32mtry\u001b[0m\u001b[0;34m:\u001b[0m\u001b[0;34m\u001b[0m\u001b[0m\n\u001b[0;32m-> 2525\u001b[0;31m                 \u001b[0;32mreturn\u001b[0m \u001b[0mself\u001b[0m\u001b[0;34m.\u001b[0m\u001b[0m_engine\u001b[0m\u001b[0;34m.\u001b[0m\u001b[0mget_loc\u001b[0m\u001b[0;34m(\u001b[0m\u001b[0mkey\u001b[0m\u001b[0;34m)\u001b[0m\u001b[0;34m\u001b[0m\u001b[0m\n\u001b[0m\u001b[1;32m   2526\u001b[0m             \u001b[0;32mexcept\u001b[0m \u001b[0mKeyError\u001b[0m\u001b[0;34m:\u001b[0m\u001b[0;34m\u001b[0m\u001b[0m\n",
      "\u001b[0;32mpandas/_libs/index.pyx\u001b[0m in \u001b[0;36mpandas._libs.index.IndexEngine.get_loc\u001b[0;34m()\u001b[0m\n",
      "\u001b[0;32mpandas/_libs/index.pyx\u001b[0m in \u001b[0;36mpandas._libs.index.IndexEngine.get_loc\u001b[0;34m()\u001b[0m\n",
      "\u001b[0;32mpandas/_libs/hashtable_class_helper.pxi\u001b[0m in \u001b[0;36mpandas._libs.hashtable.PyObjectHashTable.get_item\u001b[0;34m()\u001b[0m\n",
      "\u001b[0;32mpandas/_libs/hashtable_class_helper.pxi\u001b[0m in \u001b[0;36mpandas._libs.hashtable.PyObjectHashTable.get_item\u001b[0;34m()\u001b[0m\n",
      "\u001b[0;31mKeyError\u001b[0m: 'nbec_precint_code?'",
      "\nDuring handling of the above exception, another exception occurred:\n",
      "\u001b[0;31mKeyError\u001b[0m                                  Traceback (most recent call last)",
      "\u001b[0;32m<ipython-input-47-09c51cc866c4>\u001b[0m in \u001b[0;36m<module>\u001b[0;34m()\u001b[0m\n\u001b[0;32m----> 1\u001b[0;31m \u001b[0mVFs\u001b[0m\u001b[0;34m[\u001b[0m\u001b[0;34m\"nbec_precint_code?\"\u001b[0m\u001b[0;34m]\u001b[0m\u001b[0;34m\u001b[0m\u001b[0m\n\u001b[0m",
      "\u001b[0;32m/anaconda3/lib/python3.6/site-packages/pandas/core/frame.py\u001b[0m in \u001b[0;36m__getitem__\u001b[0;34m(self, key)\u001b[0m\n\u001b[1;32m   2137\u001b[0m             \u001b[0;32mreturn\u001b[0m \u001b[0mself\u001b[0m\u001b[0;34m.\u001b[0m\u001b[0m_getitem_multilevel\u001b[0m\u001b[0;34m(\u001b[0m\u001b[0mkey\u001b[0m\u001b[0;34m)\u001b[0m\u001b[0;34m\u001b[0m\u001b[0m\n\u001b[1;32m   2138\u001b[0m         \u001b[0;32melse\u001b[0m\u001b[0;34m:\u001b[0m\u001b[0;34m\u001b[0m\u001b[0m\n\u001b[0;32m-> 2139\u001b[0;31m             \u001b[0;32mreturn\u001b[0m \u001b[0mself\u001b[0m\u001b[0;34m.\u001b[0m\u001b[0m_getitem_column\u001b[0m\u001b[0;34m(\u001b[0m\u001b[0mkey\u001b[0m\u001b[0;34m)\u001b[0m\u001b[0;34m\u001b[0m\u001b[0m\n\u001b[0m\u001b[1;32m   2140\u001b[0m \u001b[0;34m\u001b[0m\u001b[0m\n\u001b[1;32m   2141\u001b[0m     \u001b[0;32mdef\u001b[0m \u001b[0m_getitem_column\u001b[0m\u001b[0;34m(\u001b[0m\u001b[0mself\u001b[0m\u001b[0;34m,\u001b[0m \u001b[0mkey\u001b[0m\u001b[0;34m)\u001b[0m\u001b[0;34m:\u001b[0m\u001b[0;34m\u001b[0m\u001b[0m\n",
      "\u001b[0;32m/anaconda3/lib/python3.6/site-packages/pandas/core/frame.py\u001b[0m in \u001b[0;36m_getitem_column\u001b[0;34m(self, key)\u001b[0m\n\u001b[1;32m   2144\u001b[0m         \u001b[0;31m# get column\u001b[0m\u001b[0;34m\u001b[0m\u001b[0;34m\u001b[0m\u001b[0m\n\u001b[1;32m   2145\u001b[0m         \u001b[0;32mif\u001b[0m \u001b[0mself\u001b[0m\u001b[0;34m.\u001b[0m\u001b[0mcolumns\u001b[0m\u001b[0;34m.\u001b[0m\u001b[0mis_unique\u001b[0m\u001b[0;34m:\u001b[0m\u001b[0;34m\u001b[0m\u001b[0m\n\u001b[0;32m-> 2146\u001b[0;31m             \u001b[0;32mreturn\u001b[0m \u001b[0mself\u001b[0m\u001b[0;34m.\u001b[0m\u001b[0m_get_item_cache\u001b[0m\u001b[0;34m(\u001b[0m\u001b[0mkey\u001b[0m\u001b[0;34m)\u001b[0m\u001b[0;34m\u001b[0m\u001b[0m\n\u001b[0m\u001b[1;32m   2147\u001b[0m \u001b[0;34m\u001b[0m\u001b[0m\n\u001b[1;32m   2148\u001b[0m         \u001b[0;31m# duplicate columns & possible reduce dimensionality\u001b[0m\u001b[0;34m\u001b[0m\u001b[0;34m\u001b[0m\u001b[0m\n",
      "\u001b[0;32m/anaconda3/lib/python3.6/site-packages/pandas/core/generic.py\u001b[0m in \u001b[0;36m_get_item_cache\u001b[0;34m(self, item)\u001b[0m\n\u001b[1;32m   1840\u001b[0m         \u001b[0mres\u001b[0m \u001b[0;34m=\u001b[0m \u001b[0mcache\u001b[0m\u001b[0;34m.\u001b[0m\u001b[0mget\u001b[0m\u001b[0;34m(\u001b[0m\u001b[0mitem\u001b[0m\u001b[0;34m)\u001b[0m\u001b[0;34m\u001b[0m\u001b[0m\n\u001b[1;32m   1841\u001b[0m         \u001b[0;32mif\u001b[0m \u001b[0mres\u001b[0m \u001b[0;32mis\u001b[0m \u001b[0;32mNone\u001b[0m\u001b[0;34m:\u001b[0m\u001b[0;34m\u001b[0m\u001b[0m\n\u001b[0;32m-> 1842\u001b[0;31m             \u001b[0mvalues\u001b[0m \u001b[0;34m=\u001b[0m \u001b[0mself\u001b[0m\u001b[0;34m.\u001b[0m\u001b[0m_data\u001b[0m\u001b[0;34m.\u001b[0m\u001b[0mget\u001b[0m\u001b[0;34m(\u001b[0m\u001b[0mitem\u001b[0m\u001b[0;34m)\u001b[0m\u001b[0;34m\u001b[0m\u001b[0m\n\u001b[0m\u001b[1;32m   1843\u001b[0m             \u001b[0mres\u001b[0m \u001b[0;34m=\u001b[0m \u001b[0mself\u001b[0m\u001b[0;34m.\u001b[0m\u001b[0m_box_item_values\u001b[0m\u001b[0;34m(\u001b[0m\u001b[0mitem\u001b[0m\u001b[0;34m,\u001b[0m \u001b[0mvalues\u001b[0m\u001b[0;34m)\u001b[0m\u001b[0;34m\u001b[0m\u001b[0m\n\u001b[1;32m   1844\u001b[0m             \u001b[0mcache\u001b[0m\u001b[0;34m[\u001b[0m\u001b[0mitem\u001b[0m\u001b[0;34m]\u001b[0m \u001b[0;34m=\u001b[0m \u001b[0mres\u001b[0m\u001b[0;34m\u001b[0m\u001b[0m\n",
      "\u001b[0;32m/anaconda3/lib/python3.6/site-packages/pandas/core/internals.py\u001b[0m in \u001b[0;36mget\u001b[0;34m(self, item, fastpath)\u001b[0m\n\u001b[1;32m   3841\u001b[0m \u001b[0;34m\u001b[0m\u001b[0m\n\u001b[1;32m   3842\u001b[0m             \u001b[0;32mif\u001b[0m \u001b[0;32mnot\u001b[0m \u001b[0misna\u001b[0m\u001b[0;34m(\u001b[0m\u001b[0mitem\u001b[0m\u001b[0;34m)\u001b[0m\u001b[0;34m:\u001b[0m\u001b[0;34m\u001b[0m\u001b[0m\n\u001b[0;32m-> 3843\u001b[0;31m                 \u001b[0mloc\u001b[0m \u001b[0;34m=\u001b[0m \u001b[0mself\u001b[0m\u001b[0;34m.\u001b[0m\u001b[0mitems\u001b[0m\u001b[0;34m.\u001b[0m\u001b[0mget_loc\u001b[0m\u001b[0;34m(\u001b[0m\u001b[0mitem\u001b[0m\u001b[0;34m)\u001b[0m\u001b[0;34m\u001b[0m\u001b[0m\n\u001b[0m\u001b[1;32m   3844\u001b[0m             \u001b[0;32melse\u001b[0m\u001b[0;34m:\u001b[0m\u001b[0;34m\u001b[0m\u001b[0m\n\u001b[1;32m   3845\u001b[0m                 \u001b[0mindexer\u001b[0m \u001b[0;34m=\u001b[0m \u001b[0mnp\u001b[0m\u001b[0;34m.\u001b[0m\u001b[0marange\u001b[0m\u001b[0;34m(\u001b[0m\u001b[0mlen\u001b[0m\u001b[0;34m(\u001b[0m\u001b[0mself\u001b[0m\u001b[0;34m.\u001b[0m\u001b[0mitems\u001b[0m\u001b[0;34m)\u001b[0m\u001b[0;34m)\u001b[0m\u001b[0;34m[\u001b[0m\u001b[0misna\u001b[0m\u001b[0;34m(\u001b[0m\u001b[0mself\u001b[0m\u001b[0;34m.\u001b[0m\u001b[0mitems\u001b[0m\u001b[0;34m)\u001b[0m\u001b[0;34m]\u001b[0m\u001b[0;34m\u001b[0m\u001b[0m\n",
      "\u001b[0;32m/anaconda3/lib/python3.6/site-packages/pandas/core/indexes/base.py\u001b[0m in \u001b[0;36mget_loc\u001b[0;34m(self, key, method, tolerance)\u001b[0m\n\u001b[1;32m   2525\u001b[0m                 \u001b[0;32mreturn\u001b[0m \u001b[0mself\u001b[0m\u001b[0;34m.\u001b[0m\u001b[0m_engine\u001b[0m\u001b[0;34m.\u001b[0m\u001b[0mget_loc\u001b[0m\u001b[0;34m(\u001b[0m\u001b[0mkey\u001b[0m\u001b[0;34m)\u001b[0m\u001b[0;34m\u001b[0m\u001b[0m\n\u001b[1;32m   2526\u001b[0m             \u001b[0;32mexcept\u001b[0m \u001b[0mKeyError\u001b[0m\u001b[0;34m:\u001b[0m\u001b[0;34m\u001b[0m\u001b[0m\n\u001b[0;32m-> 2527\u001b[0;31m                 \u001b[0;32mreturn\u001b[0m \u001b[0mself\u001b[0m\u001b[0;34m.\u001b[0m\u001b[0m_engine\u001b[0m\u001b[0;34m.\u001b[0m\u001b[0mget_loc\u001b[0m\u001b[0;34m(\u001b[0m\u001b[0mself\u001b[0m\u001b[0;34m.\u001b[0m\u001b[0m_maybe_cast_indexer\u001b[0m\u001b[0;34m(\u001b[0m\u001b[0mkey\u001b[0m\u001b[0;34m)\u001b[0m\u001b[0;34m)\u001b[0m\u001b[0;34m\u001b[0m\u001b[0m\n\u001b[0m\u001b[1;32m   2528\u001b[0m \u001b[0;34m\u001b[0m\u001b[0m\n\u001b[1;32m   2529\u001b[0m         \u001b[0mindexer\u001b[0m \u001b[0;34m=\u001b[0m \u001b[0mself\u001b[0m\u001b[0;34m.\u001b[0m\u001b[0mget_indexer\u001b[0m\u001b[0;34m(\u001b[0m\u001b[0;34m[\u001b[0m\u001b[0mkey\u001b[0m\u001b[0;34m]\u001b[0m\u001b[0;34m,\u001b[0m \u001b[0mmethod\u001b[0m\u001b[0;34m=\u001b[0m\u001b[0mmethod\u001b[0m\u001b[0;34m,\u001b[0m \u001b[0mtolerance\u001b[0m\u001b[0;34m=\u001b[0m\u001b[0mtolerance\u001b[0m\u001b[0;34m)\u001b[0m\u001b[0;34m\u001b[0m\u001b[0m\n",
      "\u001b[0;32mpandas/_libs/index.pyx\u001b[0m in \u001b[0;36mpandas._libs.index.IndexEngine.get_loc\u001b[0;34m()\u001b[0m\n",
      "\u001b[0;32mpandas/_libs/index.pyx\u001b[0m in \u001b[0;36mpandas._libs.index.IndexEngine.get_loc\u001b[0;34m()\u001b[0m\n",
      "\u001b[0;32mpandas/_libs/hashtable_class_helper.pxi\u001b[0m in \u001b[0;36mpandas._libs.hashtable.PyObjectHashTable.get_item\u001b[0;34m()\u001b[0m\n",
      "\u001b[0;32mpandas/_libs/hashtable_class_helper.pxi\u001b[0m in \u001b[0;36mpandas._libs.hashtable.PyObjectHashTable.get_item\u001b[0;34m()\u001b[0m\n",
      "\u001b[0;31mKeyError\u001b[0m: 'nbec_precint_code?'"
     ]
    }
   ],
   "source": [
    "VFs[\"nbec_precint_code?\"]"
   ]
  },
  {
   "cell_type": "code",
   "execution_count": null,
   "metadata": {},
   "outputs": [],
   "source": []
  }
 ],
 "metadata": {
  "kernelspec": {
   "display_name": "Python 3",
   "language": "python",
   "name": "python3"
  },
  "language_info": {
   "codemirror_mode": {
    "name": "ipython",
    "version": 3
   },
   "file_extension": ".py",
   "mimetype": "text/x-python",
   "name": "python",
   "nbconvert_exporter": "python",
   "pygments_lexer": "ipython3",
   "version": "3.6.4"
  }
 },
 "nbformat": 4,
 "nbformat_minor": 2
}
